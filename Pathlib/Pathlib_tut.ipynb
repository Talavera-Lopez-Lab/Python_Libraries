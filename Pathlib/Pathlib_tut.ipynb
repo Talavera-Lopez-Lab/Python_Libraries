{
 "cells": [
  {
   "cell_type": "markdown",
   "metadata": {},
   "source": [
    "# Pathlib"
   ]
  },
  {
   "cell_type": "code",
   "execution_count": null,
   "metadata": {},
   "outputs": [],
   "source": [
    "from pathlib import Path"
   ]
  },
  {
   "cell_type": "markdown",
   "metadata": {},
   "source": [
    "## Create Path Objects"
   ]
  },
  {
   "cell_type": "code",
   "execution_count": null,
   "metadata": {},
   "outputs": [],
   "source": [
    "path = Path(\"/usr/local/bin\")\n",
    "home_dir = Path.home()\n",
    "cwd = Path.cwd()\n",
    "\n",
    "print(\n",
    "    f'Home Directory: {home_dir}\\n',\n",
    "    f'Working Directory: {cwd}\\n',\n",
    "    f'Path Directory: {path}\\n',\n",
    ")"
   ]
  },
  {
   "cell_type": "markdown",
   "metadata": {},
   "source": [
    "## Manipulate Path Objects"
   ]
  },
  {
   "cell_type": "code",
   "execution_count": null,
   "metadata": {},
   "outputs": [],
   "source": [
    "# Create new paths by adding folders/files to an existing Path Object\n",
    "data_dir = cwd / '.data' # Create Path Object directory\n",
    "test_file_dir = cwd / 'test.txt' # Create Path object file\n",
    "cwd_parent = Path(cwd).parent # Create Path object as the parent directory of another Path object\n",
    "print(\n",
    "    f'Data Directory {data_dir}\\n'\n",
    "    f'Test File Directory {test_file_dir}\\n'\n",
    "    f'cwd Parent Directory {cwd_parent}\\n'\n",
    ")\n"
   ]
  },
  {
   "cell_type": "markdown",
   "metadata": {},
   "source": [
    "## Verify Paths"
   ]
  },
  {
   "cell_type": "code",
   "execution_count": null,
   "metadata": {},
   "outputs": [],
   "source": [
    "def check_path(\n",
    "        path: Path\n",
    "):\n",
    "    if path.exists(): # Method to test if Path Object is a valid directory\n",
    "        if path.is_file(): # Method that checks if Path Object refers to a file\n",
    "            print(f'Path {path} exists and is a file')\n",
    "        if path.is_dir(): # Method that chekcs if Path Object refers to a folder\n",
    "            print(f'Path {path} exists and is a directory')\n",
    "    else:\n",
    "        print(f'Path {path} does not exist')"
   ]
  },
  {
   "cell_type": "code",
   "execution_count": null,
   "metadata": {},
   "outputs": [],
   "source": [
    "check_path(cwd)\n",
    "check_path(test_file_dir)"
   ]
  },
  {
   "cell_type": "markdown",
   "metadata": {},
   "source": [
    "## Create/Delete Directories"
   ]
  },
  {
   "cell_type": "code",
   "execution_count": null,
   "metadata": {},
   "outputs": [],
   "source": [
    "check_path(data_dir)\n",
    "data_dir.mkdir(exist_ok=True) # Creates directories (exist_ok parameter specifies if an error should be thrown if the directory already exists)\n",
    "check_path(data_dir)\n",
    "data_dir.rmdir() # Removes (empty) directories"
   ]
  },
  {
   "cell_type": "markdown",
   "metadata": {},
   "source": [
    "## Return Directory Contents"
   ]
  },
  {
   "cell_type": "code",
   "execution_count": null,
   "metadata": {},
   "outputs": [],
   "source": [
    "for item in cwd.iterdir():\n",
    "    print(item) "
   ]
  },
  {
   "cell_type": "markdown",
   "metadata": {},
   "source": [
    "## Create/Delete Files"
   ]
  },
  {
   "cell_type": "code",
   "execution_count": null,
   "metadata": {},
   "outputs": [],
   "source": [
    "example_file = cwd / 'example.txt'\n",
    "example_file.write_text(\"Hello World!\") # Write\n",
    "content = example_file.read_text() # And Read Operations done on Path objects\n",
    "print(f\"Content of {example_file}: {content}\")\n",
    "for item in cwd.iterdir():\n",
    "    print(item)"
   ]
  },
  {
   "cell_type": "code",
   "execution_count": null,
   "metadata": {},
   "outputs": [],
   "source": [
    "example_file.unlink(missing_ok=True) # Deletes Files, missing_ok decides if an error should be thrown if the file doesnt exist\n",
    "for item in cwd.iterdir():\n",
    "    print(item)"
   ]
  }
 ],
 "metadata": {
  "kernelspec": {
   "display_name": "python-env",
   "language": "python",
   "name": "python3"
  },
  "language_info": {
   "codemirror_mode": {
    "name": "ipython",
    "version": 3
   },
   "file_extension": ".py",
   "mimetype": "text/x-python",
   "name": "python",
   "nbconvert_exporter": "python",
   "pygments_lexer": "ipython3",
   "version": "3.12.5"
  }
 },
 "nbformat": 4,
 "nbformat_minor": 2
}
